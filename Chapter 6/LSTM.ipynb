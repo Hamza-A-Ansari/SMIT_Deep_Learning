{
 "cells": [
  {
   "cell_type": "markdown",
   "id": "280f7eb8",
   "metadata": {},
   "source": [
    "## Preparing the IMDB data"
   ]
  },
  {
   "cell_type": "code",
   "execution_count": 1,
   "id": "53140024",
   "metadata": {},
   "outputs": [
    {
     "name": "stdout",
     "output_type": "stream",
     "text": [
      "Loading data...\n",
      "25000 train sequences\n",
      "25000 test sequences\n",
      "Pad sequences (samples x time)\n",
      "input_train shape: (25000, 500)\n",
      "input_test shape: (25000, 500)\n"
     ]
    }
   ],
   "source": [
    "from keras.datasets import imdb\n",
    "from keras.preprocessing import sequence\n",
    "from keras.utils import pad_sequences \n",
    "\n",
    "max_features = 10000\n",
    "maxlen = 500\n",
    "batch_size = 32\n",
    "\n",
    "print('Loading data...')\n",
    "\n",
    "(input_train, y_train), (input_test, y_test) = imdb.load_data(\n",
    "num_words=max_features)\n",
    "\n",
    "print(len(input_train), 'train sequences')\n",
    "print(len(input_test), 'test sequences')\n",
    "print('Pad sequences (samples x time)')\n",
    "\n",
    "input_train = pad_sequences(input_train, maxlen=maxlen)\n",
    "input_test = pad_sequences(input_test, maxlen=maxlen)\n",
    "\n",
    "print('input_train shape:', input_train.shape)\n",
    "print('input_test shape:', input_test.shape)"
   ]
  },
  {
   "cell_type": "markdown",
   "id": "2e1b68dc",
   "metadata": {},
   "source": [
    "# Using the LSTM layer in Keras"
   ]
  },
  {
   "cell_type": "code",
   "execution_count": 3,
   "id": "98938a3a",
   "metadata": {},
   "outputs": [
    {
     "name": "stdout",
     "output_type": "stream",
     "text": [
      "Epoch 1/10\n",
      "157/157 [==============================] - 87s 525ms/step - loss: 0.5932 - acc: 0.6726 - val_loss: 0.5368 - val_acc: 0.7188\n",
      "Epoch 2/10\n",
      "157/157 [==============================] - 84s 533ms/step - loss: 0.3499 - acc: 0.8552 - val_loss: 0.3444 - val_acc: 0.8538\n",
      "Epoch 3/10\n",
      "157/157 [==============================] - 84s 536ms/step - loss: 0.2767 - acc: 0.8900 - val_loss: 0.3376 - val_acc: 0.8562\n",
      "Epoch 4/10\n",
      "157/157 [==============================] - 84s 535ms/step - loss: 0.2307 - acc: 0.9130 - val_loss: 0.4183 - val_acc: 0.8580\n",
      "Epoch 5/10\n",
      "157/157 [==============================] - 84s 534ms/step - loss: 0.2027 - acc: 0.9239 - val_loss: 0.3078 - val_acc: 0.8862\n",
      "Epoch 6/10\n",
      "157/157 [==============================] - 83s 532ms/step - loss: 0.1848 - acc: 0.9320 - val_loss: 0.4209 - val_acc: 0.8432\n",
      "Epoch 7/10\n",
      "157/157 [==============================] - 84s 533ms/step - loss: 0.1675 - acc: 0.9411 - val_loss: 0.3402 - val_acc: 0.8514\n",
      "Epoch 8/10\n",
      "157/157 [==============================] - 84s 535ms/step - loss: 0.1481 - acc: 0.9466 - val_loss: 0.3456 - val_acc: 0.8830\n",
      "Epoch 9/10\n",
      "157/157 [==============================] - 83s 530ms/step - loss: 0.1392 - acc: 0.9512 - val_loss: 0.4428 - val_acc: 0.8352\n",
      "Epoch 10/10\n",
      "157/157 [==============================] - 83s 529ms/step - loss: 0.1241 - acc: 0.9567 - val_loss: 0.4274 - val_acc: 0.8708\n"
     ]
    }
   ],
   "source": [
    "from keras.layers import LSTM\n",
    "from keras.models import Sequential\n",
    "from keras.layers import Embedding, Dense\n",
    "\n",
    "model = Sequential()\n",
    "model.add(Embedding(max_features, 32))\n",
    "model.add(LSTM(32))\n",
    "model.add(Dense(1, activation='sigmoid'))\n",
    "\n",
    "model.compile(optimizer='rmsprop',\n",
    "              loss='binary_crossentropy',\n",
    "              metrics=['acc'])\n",
    "history = model.fit(input_train, y_train,\n",
    "                    epochs=10,\n",
    "                    batch_size=128,\n",
    "                    validation_split=0.2)"
   ]
  },
  {
   "cell_type": "code",
   "execution_count": null,
   "id": "597e9fb4",
   "metadata": {},
   "outputs": [],
   "source": []
  }
 ],
 "metadata": {
  "kernelspec": {
   "display_name": "Python 3",
   "language": "python",
   "name": "python3"
  },
  "language_info": {
   "codemirror_mode": {
    "name": "ipython",
    "version": 3
   },
   "file_extension": ".py",
   "mimetype": "text/x-python",
   "name": "python",
   "nbconvert_exporter": "python",
   "pygments_lexer": "ipython3",
   "version": "3.8.8"
  }
 },
 "nbformat": 4,
 "nbformat_minor": 5
}
